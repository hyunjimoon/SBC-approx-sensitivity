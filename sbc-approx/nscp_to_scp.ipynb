{
 "cells": [
  {
   "cell_type": "code",
   "execution_count": 17,
   "id": "440a7081-5b33-4126-86e1-e9d31985d792",
   "metadata": {},
   "outputs": [
    {
     "name": "stderr",
     "output_type": "stream",
     "text": [
      "Warning message:\n",
      "“Can't find CmdStan makefile to detect version number. Path may not point to valid installation.”\n"
     ]
    },
    {
     "ename": "ERROR",
     "evalue": "Error in initialize(...): Assertion on 'stan_file' failed: File does not exist: '/Users/hyunjimoon/Dropbox/21S_paper/SBC-approx-sensitivity/sbc-approx/examples/bernoulli/bernoulli.stan'.\n",
     "output_type": "error",
     "traceback": [
      "Error in initialize(...): Assertion on 'stan_file' failed: File does not exist: '/Users/hyunjimoon/Dropbox/21S_paper/SBC-approx-sensitivity/sbc-approx/examples/bernoulli/bernoulli.stan'.\nTraceback:\n",
      "1. cmdstan_model(file)",
      "2. CmdStanModel$new(stan_file = stan_file, compile = compile, ...)",
      "3. initialize(...)",
      "4. checkmate::assert_file_exists(stan_file, access = \"r\", extension = \"stan\")",
      "5. makeAssertion(x, res, .var.name, add)",
      "6. mstop(\"Assertion on '%s' failed: %s.\", var.name, res, call. = sys.call(-2L))"
     ]
    }
   ],
   "source": [
    "file <- file.path(cmdstan_path(), \"examples\", \"bernoulli\", \"bernoulli.stan\")\n",
    "mod <- cmdstan_model(file)"
   ]
  },
  {
   "cell_type": "code",
   "execution_count": 13,
   "id": "0846c276-3c3c-4844-b5d0-79b60add663a",
   "metadata": {},
   "outputs": [
    {
     "name": "stderr",
     "output_type": "stream",
     "text": [
      "The C++ toolchain required for CmdStan is setup properly!\n",
      "\n",
      "* Latest CmdStan release is v2.27.0\n",
      "\n",
      "* Installing CmdStan v2.27.0 in /Users/hyunjimoon/.cmdstan/cmdstan-2.27.0\n",
      "\n",
      "* Downloading cmdstan-2.27.0.tar.gz from GitHub...\n",
      "\n",
      "* Removing the existing installation of CmdStan...\n",
      "\n",
      "* Download complete\n",
      "\n",
      "* Unpacking archive...\n",
      "\n",
      "* Building CmdStan binaries...\n",
      "\n"
     ]
    },
    {
     "name": "stdout",
     "output_type": "stream",
     "text": [
      "\u001b[31march: posix_spawnp: make: Bad CPU type in executable\n",
      "\u001b[39m\n"
     ]
    },
    {
     "name": "stderr",
     "output_type": "stream",
     "text": [
      "Warning message:\n",
      "“There was a problem during installation. See the error message(s) above.”\n"
     ]
    }
   ],
   "source": [
    "install_cmdstan(cores = 2, overwrite=TRUE)"
   ]
  },
  {
   "cell_type": "code",
   "execution_count": 4,
   "id": "816093b1-2461-45b7-8e27-fa9dc37518ce",
   "metadata": {},
   "outputs": [
    {
     "name": "stdout",
     "output_type": "stream",
     "text": [
      "Running MCMC with 1 chain...\n",
      "\n"
     ]
    },
    {
     "name": "stderr",
     "output_type": "stream",
     "text": [
      "Chain 1 dyld[35672]: Library not loaded: @rpath/libtbb.dylib\n",
      "\n",
      "Chain 1   Referenced from: /Users/hyunjimoon/Dropbox/21S_paper/SBC-approx-sensitivity/sbc-approx/models/eightschools_ncp/eightschools_ncp\n",
      "\n",
      "Chain 1   Reason: tried: '/Users/hyunjimoon/.cmdstanr/cmdstan-2.23.0/stan/lib/stan_math/lib/tbb/libtbb.dylib' (no such file), '/Users/hyunjimoon/.cmdstanr/cmdstan-2.23.0/stan/lib/stan_math/lib/tbb/libtbb.dylib' (no such file), '/Library/Frameworks/R.framework/Resources/lib/libtbb.dylib' (no such file), '/Library/Java/JavaVirtualMachines/zulu-8.jdk/Contents/Home/jre/lib/server/libtbb.dylib' (no such file)\n",
      "\n",
      "Warning message:\n",
      "“Chain 1 finished unexpectedly!\n",
      "”\n",
      "Warning message:\n",
      "“No chains finished successfully. Unable to retrieve the fit.”\n"
     ]
    },
    {
     "ename": "ERROR",
     "evalue": "Error: No chains finished successfully. Unable to retrieve the draws.\n",
     "output_type": "error",
     "traceback": [
      "Error: No chains finished successfully. Unable to retrieve the draws.\nTraceback:\n",
      "1. workflow$fit_model(20, 20, data)",
      "2. cmdstan_fits_to_draws_rvars(self$cmdstan_model, sbc_iterations, \n .     data, self$simulated_y, iter_sampling = sample_iterations * \n .         thin_factor, iter_warmup = warmup_iterations, chains = 1, \n .     thin = thin_factor)",
      "3. posterior::as_draws_array(posterior::as_draws_rvars(model_fit$draws()))",
      "4. posterior::as_draws_rvars(model_fit$draws())",
      "5. model_fit$draws()",
      "6. private$read_csv_(variables = to_read, sampler_diagnostics = \"\", \n .     format = format)",
      "7. stop(\"No chains finished successfully. Unable to retrieve the draws.\", \n .     call. = FALSE)"
     ]
    }
   ],
   "source": [
    "library(SBC)\n",
    "library(cmdstanr)\n",
    "generator <- function(){\n",
    "  function(){\n",
    "    mu <- rnorm(1, 0, 5)\n",
    "    tau <- rcauchy(1, 0, 5)\n",
    "    theta_trans <- rnorm(8, 0, 1)\n",
    "    theta <-theta_trans * tau + mu\n",
    "    list(\n",
    "      generated = rnorm(8, mu, sigma),\n",
    "      parameters = list(\n",
    "        mu = mu,\n",
    "        theta_trans=theta_trans,\n",
    "        tau = tau,\n",
    "        theta = theta\n",
    "      )\n",
    "    )\n",
    "  }\n",
    "}\n",
    "\n",
    "\n",
    "J <- 8\n",
    "y <- c(28, 8, -3, 7, -1, 1, 18, 12)\n",
    "sigma <- c(15, 10, 16, 11, 9, 11, 10, 18)\n",
    "\n",
    "data = list(\"J\"=J, \"y\"=y, \"sigma\"=sigma)\n",
    "ncp_model = cmdstanr::cmdstan_model(\"models/eightschools_ncp/eightschools_ncp.stan\")\n",
    "\n",
    "\n",
    "workflow <- SBC::SBCWorkflow$new(ncp_model, generator())\n",
    "\n",
    "workflow$simulate(10)\n",
    "d <- workflow$fit_model(20, 20, data)\n",
    "prior <- workflow$prior_samples\n",
    "post <- workflow$posterior_samples\n",
    "ranks <- workflow$calculate_rank()"
   ]
  },
  {
   "cell_type": "code",
   "execution_count": 6,
   "id": "67e0b469-74f0-4730-850f-e13243c85774",
   "metadata": {},
   "outputs": [],
   "source": [
    "set.seed(42)"
   ]
  },
  {
   "cell_type": "code",
   "execution_count": 1,
   "id": "0c13f358-50cd-471e-a747-9a9f052c8777",
   "metadata": {},
   "outputs": [
    {
     "name": "stderr",
     "output_type": "stream",
     "text": [
      "This is cmdstanr version 0.4.0.9000\n",
      "\n",
      "- Online documentation and vignettes at mc-stan.org/cmdstanr\n",
      "\n",
      "- CmdStan path set to: /Users/hyunjimoon/.cmdstan/cmdstan-2.27.0\n",
      "\n",
      "- Use set_cmdstan_path() to change the path\n",
      "\n",
      "\n",
      "Attaching package: ‘dplyr’\n",
      "\n",
      "\n",
      "The following objects are masked from ‘package:stats’:\n",
      "\n",
      "    filter, lag\n",
      "\n",
      "\n",
      "The following objects are masked from ‘package:base’:\n",
      "\n",
      "    intersect, setdiff, setequal, union\n",
      "\n",
      "\n",
      "── \u001b[1mAttaching packages\u001b[22m ───────────────────────────────────────────────────────────────────────── tidyverse 1.3.1 ──\n",
      "\n",
      "\u001b[32m✔\u001b[39m \u001b[34mggplot2\u001b[39m 3.3.5     \u001b[32m✔\u001b[39m \u001b[34mpurrr  \u001b[39m 0.3.4\n",
      "\u001b[32m✔\u001b[39m \u001b[34mtibble \u001b[39m 3.1.2     \u001b[32m✔\u001b[39m \u001b[34mstringr\u001b[39m 1.4.0\n",
      "\u001b[32m✔\u001b[39m \u001b[34mtidyr  \u001b[39m 1.1.3     \u001b[32m✔\u001b[39m \u001b[34mforcats\u001b[39m 0.5.1\n",
      "\u001b[32m✔\u001b[39m \u001b[34mreadr  \u001b[39m 1.4.0     \n",
      "\n",
      "── \u001b[1mConflicts\u001b[22m ──────────────────────────────────────────────────────────────────────────── tidyverse_conflicts() ──\n",
      "\u001b[31m✖\u001b[39m \u001b[34mdplyr\u001b[39m::\u001b[32mfilter()\u001b[39m masks \u001b[34mstats\u001b[39m::filter()\n",
      "\u001b[31m✖\u001b[39m \u001b[34mdplyr\u001b[39m::\u001b[32mlag()\u001b[39m    masks \u001b[34mstats\u001b[39m::lag()\n",
      "\n",
      "\n",
      "Attaching package: ‘reshape’\n",
      "\n",
      "\n",
      "The following objects are masked from ‘package:tidyr’:\n",
      "\n",
      "    expand, smiths\n",
      "\n",
      "\n",
      "The following object is masked from ‘package:dplyr’:\n",
      "\n",
      "    rename\n",
      "\n",
      "\n",
      "This is posterior version 1.0.0\n",
      "\n",
      "\n",
      "Attaching package: ‘posterior’\n",
      "\n",
      "\n",
      "The following objects are masked from ‘package:stats’:\n",
      "\n",
      "    mad, sd, var\n",
      "\n",
      "\n",
      "Skipping install of 'SBC' from a github remote, the SHA1 (b6278571) has not changed since last install.\n",
      "  Use `force = TRUE` to force installation\n",
      "\n",
      "Warning message in dir.create(delivDir):\n",
      "“'/Users/hyunjimoon/Dropbox/21S_paper/SBC-approx-sensitivity/sbc-approx/deliv/simple.normal_1' already exists”\n",
      "Warning message in dir.create(delivDir):\n",
      "“'/Users/hyunjimoon/Dropbox/21S_paper/SBC-approx-sensitivity/sbc-approx/deliv/simple.normal_1' already exists”\n",
      "Warning message in dir.create(delivDir):\n",
      "“'/Users/hyunjimoon/Dropbox/21S_paper/SBC-approx-sensitivity/sbc-approx/deliv/simple.normal_1' already exists”\n"
     ]
    }
   ],
   "source": [
    "library(cmdstanr)\n",
    "#install_cmdstanr(overwrite = TRUE)\n",
    "library(dplyr)\n",
    "library(tidyverse)\n",
    "library(reshape)\n",
    "library(parallel)\n",
    "library(posterior)\n",
    "#library(rstanarm)\n",
    "devtools::install_github(\"hyunjimoon/SBC\",ref=\"workflow\")\n",
    "library(SBC)\n",
    "set.seed(1954)\n",
    ".libPaths(\"~/Rlib\")\n",
    "options(mc.cores = parallel::detectCores())\n",
    "set_get_Dir <- function(modelName){\n",
    "  scriptDir <- getwd()\n",
    "  modDir <- file.path(scriptDir, \"models\")\n",
    "  dataDir <- file.path(scriptDir, \"data\")\n",
    "  delivDir <- file.path(scriptDir, \"deliv\", modelName)\n",
    "  dir.create(delivDir)\n",
    "  file <- file.path(modDir, modelName, paste0(modelName, \".stan\"))\n",
    "  mod <- cmdstan_model(file)\n",
    "  return(list(data = data, mod = mod, modDir = modDir, file = file, delivDir = delivDir)) \n",
    "}\n",
    "\n",
    "source(\"tools/selfCalib.R\")\n",
    "modelName = \"simple.normal_1\"\n",
    "modDir <- set_get_Dir(modelName)$modDir\n",
    "delivDir <- set_get_Dir(modelName)$delivDir\n",
    "file <- set_get_Dir(modelName)$file\n",
    "simple.normal_1 = cmdstanr::cmdstan_model(file)"
   ]
  },
  {
   "cell_type": "code",
   "execution_count": 2,
   "id": "8cedcfde-2f6b-48b4-af7d-feeb27aea613",
   "metadata": {},
   "outputs": [],
   "source": [
    "generator <- \n",
    "  function(){\n",
    "    theta <- rnorm(1, 0, 1)\n",
    "    list(\n",
    "      generated = rnorm(8, theta, 1),\n",
    "      parameters = list(\n",
    "        theta\n",
    "      )\n",
    "    )\n",
    "  }\n",
    "\n",
    "\n",
    "D <- 8\n",
    "y <- c(1.7,1.6,1.9,1.3,3.5,3.1,1.1,3.6) #round(rnorm(10, 2, 1), 1)\n",
    "\n",
    "data = list(\"D\"=D, \"y\"=y, \"theta_hp\"=0)\n",
    "\n",
    "nChains <- 4\n",
    "parallel_chains <- min(nChains, detectCores())\n",
    "N = 10 #200\n",
    "M = 5 # 40\n",
    "# data needed for y_sim placeholders\n",
    "workflow <- SBC::SBCWorkflow$new(simple.normal_1, generator())"
   ]
  },
  {
   "cell_type": "code",
   "execution_count": 3,
   "id": "02cd54df-a3f6-4a06-b0bc-be7501767e7a",
   "metadata": {},
   "outputs": [
    {
     "ename": "ERROR",
     "evalue": "Error in do.call(generator, list(...)): 'what' must be a function or character string\n",
     "output_type": "error",
     "traceback": [
      "Error in do.call(generator, list(...)): 'what' must be a function or character string\nTraceback:\n",
      "1. workflow$simulate(n_sbc_iterations = N)",
      "2. do.call(generator_to_draws_rvars, list(self$sim_function, n_sbc_iterations, \n .     ...))",
      "3. (function (generator, n_sbc_iterations, ...) \n . {\n .     merged_parameter_array <- NULL\n .     merged_generated_array <- NULL\n .     for (iter in 1:n_sbc_iterations) {\n .         generator_output <- do.call(generator, list(...))\n .         parameter_array <- posterior::as_draws_array(posterior::as_draws_rvars(generator_output[[\"parameters\"]]))\n .         generated_array <- posterior::as_draws_array(posterior::as_draws_rvars(list(y = posterior::rvar(generator_output[[\"generated\"]]))))\n .         dimnames(parameter_array)[[2]] <- iter\n .         dimnames(generated_array)[[2]] <- iter\n .         if (iter == 1) {\n .             merged_parameter_array <- parameter_array\n .             merged_generated_array <- generated_array\n .         }\n .         else {\n .             merged_parameter_array <- abind::abind(merged_parameter_array, \n .                 parameter_array, along = 2)\n .             merged_generated_array <- abind::abind(merged_generated_array, \n .                 generated_array, along = 2)\n .         }\n .     }\n .     list(parameters = posterior::as_draws_rvars(merged_parameter_array), \n .         generated = posterior::as_draws_rvars(merged_generated_array))\n . })(list(generated = c(-0.407076153360094, 0.153262147576579, \n . 1.29824709265169, 1.18864682241026, 1.66804860550669, -0.0484767697144391, \n . -0.998805143362143, 0.519929670551348), parameters = list(0.121479874806603)), \n .     10)",
      "4. do.call(generator, list(...))"
     ]
    }
   ],
   "source": [
    "workflow$simulate(n_sbc_iterations = N) \n",
    "workflow$fit_model(sample_iterations = M, warmup_iterations = M, data)"
   ]
  },
  {
   "cell_type": "code",
   "execution_count": 10,
   "id": "2e84c3de-1e68-4b4c-ab20-79f6e43c4a2d",
   "metadata": {},
   "outputs": [],
   "source": [
    "SBCWorkflow <- R6::R6Class(\"SBCWorkflow\",\n",
    "  public = list(\n",
    "    #' @field cmdstan_model A CmdStanModel object used for SBC\n",
    "    #' @field brms_model_fit A brmsfit object used for SBC\n",
    "    #' @field sim_function If using CmdStanModel, a simulator function, which should return simulated prior and data samples for SBC. Please refer \\code{SBCWorkflow$initialize()} for details.\n",
    "    #' @field calculated_ranks A named list of vectors which contained calculated ranks, or NULL if not calculated.\n",
    "    #' @field prior_samples A posterior::draws_rvars of dimension(n_iterations=1, n_chains=n_sbc_iterations, n_variables=n_variables) which stores prior samples\n",
    "    #' @field simulated_y A posterior::draws_rvars of dimension(n_iterations=n_simulated_y, n_chains=n_sbc_iterations, n_variables=1), which stores simulated y as \"y\"\n",
    "    #' @field posterior_samples A posterior::draws_Rvars of dimension(n_iterations=n_posterior_samples, n_chains=n_sbc_iterations, n_variables=n_variables), which stores fitted posterior samples\n",
    "    #' @field thin_factor Non-negative integer representing posterior thinning interval\n",
    "    cmdstan_model = NULL,\n",
    "    brms_model_fit = NULL,\n",
    "    sim_function = NULL,\n",
    "    calculated_ranks = NULL,\n",
    "    prior_samples = NULL,  #  written on simulate\n",
    "    simulated_y = NULL,  #  written on simulate\n",
    "    posterior_samples = NULL, # written on fit_model\n",
    "    thin_factor = NULL, # type is integer. written on initialize and fit_model\n",
    "\n",
    "    #' R6 Initializer for SBCWorkflow\n",
    "    #'\n",
    "    #' @param model_obj A CmdStanModel or brmsfit object to use for fitting data.\n",
    "    #' @param sim_function If using CmdStanModel, a simulator function. The function must return a\n",
    "    #'   named list with elements \\code{parameters} and \\code{generated}.\n",
    "    #'   Parameters should be a named list containing prior samplers for\n",
    "    #'   parameters. Generated must be a 1 dimensional vector containing\n",
    "    #'   simulated y data generated from the \\code{parameters} samples.\n",
    "    #'\n",
    "    #' @return None\n",
    "    initialize = function(model_obj, sim_function){\n",
    "      if(!is.na(match(CMDSTAN_MODEL_CLASS_NAME, class(model_obj)))){\n",
    "        if(missing(sim_function)){\n",
    "          stop(\"If a cmdstan model is given, sim_function must also be supplied.\")\n",
    "        }\n",
    "        self$cmdstan_model <- model_obj\n",
    "        self$sim_function <- sim_function\n",
    "      }\n",
    "      else if(!is.na(match(BRMSFIT_MODEL_CLASS_NAME, class(model_obj)))){\n",
    "        if(!missing(sim_function)){\n",
    "          warning(\"A brm model has been supplied, but sim_function was also included in arguments. It will be ignored.\")\n",
    "        }\n",
    "        self$brms_model_fit <- model_obj\n",
    "      }\n",
    "      else{\n",
    "        stop(paste(\"The specified model object is neither a\", CMDSTAN_MODEL_CLASS_NAME, \"or a\", BRMSFIT_MODEL_CLASS_NAME, \". Please recheck your model object.\"))\n",
    "      }\n",
    "    },\n",
    "\n",
    "    #' Sample \\eqn{\\tilde{\\theta} \\sim P(\\theta)} and \\eqn{\\tilde{y} \\sim P(\\tilde{y}) | \\tilde{\\theta} using \\code{sim_function}\n",
    "    #'\n",
    "    #' @param n_sbc_iterations Number of prior sample sets to generate. Equates to number of SBC iterations\n",
    "    #' @param ... Additional arguments to be passed to \\code{sim_function}\n",
    "    simulate = function(n_sbc_iterations, ...){  # number of simulation draws should be at least 1000\n",
    "      if(!is.null(self$brms_model_fit)){\n",
    "        #prior_sampler <- update(self$model_obj, sample_prior=\"only\", chains=1, iter=n * 2, warmup = n)\n",
    "      }\n",
    "      else if(!is.null(self$cmdstan_model)){\n",
    "        draws_rvars_list <- do.call(generator_to_draws_rvars, list(self$sim_function, n_sbc_iterations, ...))\n",
    "        self$prior_samples <- draws_rvars_list[[\"parameters\"]]\n",
    "        self$simulated_y <- draws_rvars_list[[\"generated\"]]\n",
    "      }\n",
    "      else{\n",
    "        stop(\"No valid model specified for the workflow. Please check that your model is a valid brmsfit or a CmdStanModel object.\")\n",
    "      }\n",
    "    },\n",
    "\n",
    "    #' Sample \\eqn{\\widehat{\\theta} \\sim P(\\widehat{\\theta} | \\tilde{y})} using the stan model.\n",
    "    #'\n",
    "    #' @param sample_iterations Number of sampling iterations. Equates to number of posterior samples\n",
    "    #' @param warmup_iterations Number of warmup iteratioins.\n",
    "    #' @param data List specifying data to be passed to the model. Note that \\code{y} will be replaced with simulated \\code{y} samples.\n",
    "    #' @param thin_factor Non-negative integer in which thinning should be applied. 1 equates to no thinning being done.\n",
    "    #'\n",
    "    #' @return A list of named lists containing posterior samples for each parameter.\n",
    "    fit_model = function(sample_iterations, warmup_iterations, data=list(), thin_factor=3){\n",
    "      self$thin_factor <- thin_factor\n",
    "      if(is.null(self$simulated_y)){\n",
    "        stop(\"There are no simulated data available. Please run SBCWorkflow$simulate() first \")\n",
    "      }\n",
    "      # if(posterior::nchains(self$prior_samples) != posterior::nchains(self$simulated_y)){\n",
    "      #   stop(\"The number of simulated prior and data do not match. Please rerun SBCWorkflow$simulate() and if using CmdStan, make sure your generator is well formed.\")\n",
    "      # }\n",
    "\n",
    "\n",
    "      if(!is.null(self$brms_model_fit)){\n",
    "        #brms\n",
    "      }\n",
    "      else if(!is.null(self$cmdstan_model)){\n",
    "        sbc_iterations <- posterior::nchains(self$prior_samples)\n",
    "        posterior_draws_rvars <- cmdstan_fits_to_draws_rvars(self$cmdstan_model, sbc_iterations, data, self$simulated_y, iter_sampling=sample_iterations * thin_factor, iter_warmup = warmup_iterations, chains=1, thin=thin_factor)\n",
    "        self$posterior_samples <- posterior_draws_rvars\n",
    "      }\n",
    "\n",
    "      posterior_draws_rvars\n",
    "    },\n",
    "\n",
    "    #' Calculate rank statistics for a given parameter name\n",
    "    #'\n",
    "    #' @param param list of parameter names to calculate. If not given, calculate for all available parameters.\n",
    "    #'\n",
    "    calculate_rank = function(param=NULL){\n",
    "      if(is.null(self$posterior_samples)){\n",
    "        stop(\"There are no posterior samples available. Please run SBCWorkflow$fit_model() first.\")\n",
    "      }\n",
    "      if(is.null(param)){\n",
    "        param <- posterior::variables(prior)\n",
    "      }\n",
    "      calculate_rank_draws_rvars(self$prior_samples, self$posterior_samples)\n",
    "\n",
    "      # ranks <- array(rep(0, n_iters * n_params), dim=c(n_iters, n_params))\n",
    "      # dimnames(ranks)[2] <- list(names(decomposed_prior))\n",
    "      #\n",
    "      # for(i in 1:n_iters){\n",
    "      #   prior <- self$prior_samples[[i]]\n",
    "      #   decomposed_prior <- decompose_structure_to_par_list(prior)\n",
    "      #\n",
    "      #   for(j in 1:n_params){\n",
    "      #     regex_res <- gregexpr(\"(?<=\\\\[)(.+)(?=\\\\])\", param[[j]], perl = TRUE)[[1]]\n",
    "      #     capture_start <- attr(regex_res, \"capture.start\")\n",
    "      #     capture_length <- attr(regex_res, \"capture.length\")\n",
    "      #     if(capture_start != -1){\n",
    "      #       index <- as.integer(unlist(substr(param[[j]], capture_start, capture_start + capture_length - 1)))\n",
    "      #       ranks[i, param[[j]]] <- sum(self$posterior_samples[[i]][[param[[j]]]] < access_element_by_index(self$prior_samples[[i]][[base_param_names[[j]]]], index))\n",
    "      #     }\n",
    "      #     else{\n",
    "      #       t1 <- self$posterior_samples[[i]][[param[[j]]]]\n",
    "      #       t2 <- self$prior_samples[[i]][[param[[j]]]]\n",
    "      #       #ranks[i, param[[j]]] <- sum(self$posterior_samples[[i]][[param[[j]]]] < self$prior_samples[[i]][[param[[j]]]])\n",
    "      #       ranks[i, param[[j]]] <- sum(t1 < t2)\n",
    "      #     }\n",
    "      #   }\n",
    "      # }\n",
    "      # return(ranks)\n",
    "    },\n",
    "    add_steps = function(N){\n",
    "\n",
    "    }\n",
    "  )\n",
    ")"
   ]
  },
  {
   "cell_type": "code",
   "execution_count": 11,
   "id": "04b88d7c-59f4-4f9c-a725-9f263fcadb73",
   "metadata": {},
   "outputs": [
    {
     "ename": "ERROR",
     "evalue": "Error in do.call(generator_to_draws_rvars, list(self$sim_function, n_sbc_iterations, : object 'N' not found\n",
     "output_type": "error",
     "traceback": [
      "Error in do.call(generator_to_draws_rvars, list(self$sim_function, n_sbc_iterations, : object 'N' not found\nTraceback:\n",
      "1. workflow$simulate(n_sbc_iterations = N)",
      "2. do.call(generator_to_draws_rvars, list(self$sim_function, n_sbc_iterations, \n .     ...))"
     ]
    }
   ],
   "source": [
    "workflow$simulate(n_sbc_iterations = N) \n",
    "workflow$fit_model(sample_iterations = M, warmup_iterations = M, data)"
   ]
  },
  {
   "cell_type": "code",
   "execution_count": 12,
   "id": "719ae870-00c5-4dad-a4a6-a4e8cb03aacb",
   "metadata": {},
   "outputs": [
    {
     "ename": "ERROR",
     "evalue": "Error in do.call(generator_to_draws_rvars, list(self$sim_function, n_sbc_iterations, : object 'N' not found\n",
     "output_type": "error",
     "traceback": [
      "Error in do.call(generator_to_draws_rvars, list(self$sim_function, n_sbc_iterations, : object 'N' not found\nTraceback:\n",
      "1. workflow$simulate(n_sbc_iterations = N, custom_prior = NULL)",
      "2. do.call(generator_to_draws_rvars, list(self$sim_function, n_sbc_iterations, \n .     ...))"
     ]
    }
   ],
   "source": [
    "workflow$simulate(n_sbc_iterations = N, custom_prior = NULL) \n",
    "workflow$fit_model(sample_iterations = M, warmup_iterations = M, data)"
   ]
  },
  {
   "cell_type": "code",
   "execution_count": 13,
   "id": "ee9527f9-252d-42f2-9000-f241d1ff10da",
   "metadata": {},
   "outputs": [
    {
     "ename": "ERROR",
     "evalue": "Error in detectCores(): could not find function \"detectCores\"\n",
     "output_type": "error",
     "traceback": [
      "Error in detectCores(): could not find function \"detectCores\"\nTraceback:\n"
     ]
    }
   ],
   "source": [
    "generator <- \n",
    "  function(){\n",
    "    theta <- rnorm(1, 0, 1)\n",
    "    list(\n",
    "      generated = rnorm(8, theta, 1),\n",
    "      parameters = list(\n",
    "        theta\n",
    "      )\n",
    "    )\n",
    "  }\n",
    "\n",
    "\n",
    "D <- 8\n",
    "y <- c(1.7,1.6,1.9,1.3,3.5,3.1,1.1,3.6) #round(rnorm(10, 2, 1), 1)\n",
    "\n",
    "data = list(\"D\"=D, \"y\"=y, \"theta_hp\"=0)\n",
    "\n",
    "nChains <- 4\n",
    "parallel_chains <- min(nChains, detectCores())\n",
    "N = 10 #200\n",
    "M = 5 # 40\n",
    "# data needed for y_sim placeholders\n",
    "workflow <- SBCWorkflow$new(simple.normal_1, generator())\n",
    "workflow$simulate(n_sbc_iterations = N, custom_prior = NULL) \n",
    "workflow$fit_model(sample_iterations = M, warmup_iterations = M, data)"
   ]
  },
  {
   "cell_type": "code",
   "execution_count": 14,
   "id": "c3271e33-26f6-4aaf-84de-6e01b55e7c10",
   "metadata": {},
   "outputs": [
    {
     "ename": "ERROR",
     "evalue": "Error in match(CMDSTAN_MODEL_CLASS_NAME, class(model_obj)): object 'CMDSTAN_MODEL_CLASS_NAME' not found\n",
     "output_type": "error",
     "traceback": [
      "Error in match(CMDSTAN_MODEL_CLASS_NAME, class(model_obj)): object 'CMDSTAN_MODEL_CLASS_NAME' not found\nTraceback:\n",
      "1. SBCWorkflow$new(simple.normal_1, next_generator())",
      "2. initialize(...)",
      "3. match(CMDSTAN_MODEL_CLASS_NAME, class(model_obj))   # at line 31-46 of file <text>"
     ]
    }
   ],
   "source": [
    "next_workflow <- SBCWorkflow$new(simple.normal_1, next_generator())"
   ]
  },
  {
   "cell_type": "code",
   "execution_count": 110,
   "id": "9339d363-30d5-4e1a-b6e8-98d9d7d49b60",
   "metadata": {},
   "outputs": [
    {
     "ename": "ERROR",
     "evalue": "Error in rnorm(1, theta_hp, 1): argument \"theta_hp\" is missing, with no default\n",
     "output_type": "error",
     "traceback": [
      "Error in rnorm(1, theta_hp, 1): argument \"theta_hp\" is missing, with no default\nTraceback:\n",
      "1. next_workflow$simulate(n_sbc_iterations = N, theta_hp = summarise_draws(workflow$prior_samples)$mean)",
      "2. do.call(generator_to_draws_rvars, list(self$sim_function, n_sbc_iterations, \n .     ...))   # at line 64 of file <text>",
      "3. (function (generator, n_sbc_iterations, ...) \n . {\n .     merged_parameter_array <- NULL\n .     merged_generated_array <- NULL\n .     for (iter in 1:n_sbc_iterations) {\n .         generator_output <- do.call(generator, list(...))\n .         parameter_array <- posterior::as_draws_array(posterior::as_draws_rvars(generator_output[[\"parameters\"]]))\n .         generated_array <- posterior::as_draws_array(posterior::as_draws_rvars(list(y = posterior::rvar(generator_output[[\"generated\"]]))))\n .         dimnames(parameter_array)[[2]] <- iter\n .         dimnames(generated_array)[[2]] <- iter\n .         if (iter == 1) {\n .             merged_parameter_array <- parameter_array\n .             merged_generated_array <- generated_array\n .         }\n .         else {\n .             merged_parameter_array <- abind::abind(merged_parameter_array, \n .                 parameter_array, along = 2)\n .             merged_generated_array <- abind::abind(merged_generated_array, \n .                 generated_array, along = 2)\n .         }\n .     }\n .     list(parameters = posterior::as_draws_rvars(merged_parameter_array), \n .         generated = posterior::as_draws_rvars(merged_generated_array))\n . })(function (theta_hp) \n . {\n .     theta <- rnorm(1, theta_hp, 1)\n .     list(generated = rnorm(8, theta, 1), parameters = list(theta))\n . }, 10)",
      "4. do.call(generator, list(...))   # at line 154 of file <text>",
      "5. (function (theta_hp) \n . {\n .     theta <- rnorm(1, theta_hp, 1)\n .     list(generated = rnorm(8, theta, 1), parameters = list(theta))\n . })()",
      "6. rnorm(1, theta_hp, 1)   # at line 3 of file <text>"
     ]
    }
   ],
   "source": [
    "next_workflow$simulate(n_sbc_iterations = N, theta_hp = summarise_draws(workflow$prior_samples)$mean) "
   ]
  },
  {
   "cell_type": "code",
   "execution_count": 103,
   "id": "5d9e017a-4b4f-4224-a912-1c481c5e4fd9",
   "metadata": {},
   "outputs": [
    {
     "ename": "ERROR",
     "evalue": "Error in rnorm(1, theta_hp, 1): argument \"theta_hp\" is missing, with no default\n",
     "output_type": "error",
     "traceback": [
      "Error in rnorm(1, theta_hp, 1): argument \"theta_hp\" is missing, with no default\nTraceback:\n",
      "1. next_workflow$simulate(n_sbc_iterations = N, theta_hp = summarise_draws(workflow$prior_samples)$mean)",
      "2. do.call(generator_to_draws_rvars, list(self$sim_function, n_sbc_iterations, \n .     ...))   # at line 64 of file <text>",
      "3. (function (generator, n_sbc_iterations, ...) \n . {\n .     merged_parameter_array <- NULL\n .     merged_generated_array <- NULL\n .     for (iter in 1:n_sbc_iterations) {\n .         generator_output <- do.call(generator, list(...))\n .         parameter_array <- posterior::as_draws_array(posterior::as_draws_rvars(generator_output[[\"parameters\"]]))\n .         generated_array <- posterior::as_draws_array(posterior::as_draws_rvars(list(y = posterior::rvar(generator_output[[\"generated\"]]))))\n .         dimnames(parameter_array)[[2]] <- iter\n .         dimnames(generated_array)[[2]] <- iter\n .         if (iter == 1) {\n .             merged_parameter_array <- parameter_array\n .             merged_generated_array <- generated_array\n .         }\n .         else {\n .             merged_parameter_array <- abind::abind(merged_parameter_array, \n .                 parameter_array, along = 2)\n .             merged_generated_array <- abind::abind(merged_generated_array, \n .                 generated_array, along = 2)\n .         }\n .     }\n .     list(parameters = posterior::as_draws_rvars(merged_parameter_array), \n .         generated = posterior::as_draws_rvars(merged_generated_array))\n . })(function (theta_hp) \n . {\n .     theta <- rnorm(1, theta_hp, 1)\n .     list(generated = rnorm(8, theta, 1), parameters = list(theta))\n . }, 10)",
      "4. do.call(generator, list(...))   # at line 154 of file <text>",
      "5. (function (theta_hp) \n . {\n .     theta <- rnorm(1, theta_hp, 1)\n .     list(generated = rnorm(8, theta, 1), parameters = list(theta))\n . })()",
      "6. rnorm(1, theta_hp, 1)   # at line 3 of file <text>"
     ]
    }
   ],
   "source": [
    "next_generator <-  function(theta_hp){\n",
    "    theta <- rnorm(1, theta_hp, 1)\n",
    "    list(\n",
    "      generated = rnorm(8, theta, 1),\n",
    "      parameters = list(\n",
    "        theta\n",
    "      )\n",
    "    )\n",
    "  }\n",
    "\n",
    "next_workflow <- SBCWorkflow$new(simple.normal_1, next_generator())\n",
    "next_workflow$simulate(n_sbc_iterations = N, theta_hp = summarise_draws(workflow$prior_samples)$mean) \n",
    "next_workflow$fit_model(sample_iterations = M, warmup_iterations = M, data)"
   ]
  },
  {
   "cell_type": "code",
   "execution_count": 91,
   "id": "4e016631-0f4d-4bfe-8f3c-552b5d7c8f79",
   "metadata": {},
   "outputs": [
    {
     "data": {
      "text/html": [
       "-0.184564274185363"
      ],
      "text/latex": [
       "-0.184564274185363"
      ],
      "text/markdown": [
       "-0.184564274185363"
      ],
      "text/plain": [
       "[1] -0.1845643"
      ]
     },
     "metadata": {},
     "output_type": "display_data"
    }
   ],
   "source": []
  },
  {
   "cell_type": "code",
   "execution_count": null,
   "id": "1874b556-6011-41d0-a185-c64b3bad681c",
   "metadata": {},
   "outputs": [],
   "source": [
    "  t_prior <- prior[pars]\n",
    "  workflow$simulate(n_sbc_iterations = N, custom_prior = prior)\n",
    "  #clamped stan could be applied for inference\n",
    "  D <- dim(as_draws_array(workflow$simulated_y))[1]\n",
    "  y <- workflow$simulated_y\n",
    "  prior_summ <- summarise_draws(workflow$prior_samples)\n",
    "  theta_hp <- prior_summ$mean\n",
    "  data = list(\"D\"=D, \"y\"=y, \"theta_hp\"=theta_hp)\n",
    "    "
   ]
  },
  {
   "cell_type": "code",
   "execution_count": 85,
   "id": "7c895aa3-217f-4950-afa6-d58a9ad4739f",
   "metadata": {},
   "outputs": [
    {
     "data": {
      "text/plain": [
       "# A draws_rvars: 8 iterations, 10 chains, and 1 variables\n",
       "$y: rvar<8,10>[1] \u001b[90mmean ± sd:\u001b[39m\n",
       "[1] 0.0023 ± 1.1 \n"
      ]
     },
     "metadata": {},
     "output_type": "display_data"
    }
   ],
   "source": [
    "workflow$simulate(n_sbc_iterations = N, custom_prior = NULL)\n",
    "workflow$simulated_y"
   ]
  },
  {
   "cell_type": "code",
   "execution_count": 86,
   "id": "fe236b4a-ae63-40f1-a3a9-8d9103dc4080",
   "metadata": {},
   "outputs": [
    {
     "data": {
      "text/plain": [
       "# A draws_rvars: 1 iterations, 10 chains, and 1 variables\n",
       "$...1: rvar<1,10>[1] \u001b[90mmean ± sd:\u001b[39m\n",
       "[1] 0.16 ± 0.78 \n"
      ]
     },
     "metadata": {},
     "output_type": "display_data"
    }
   ],
   "source": [
    "workflow$prior_samples"
   ]
  },
  {
   "cell_type": "code",
   "execution_count": 89,
   "id": "07923fd2-0bd2-4fd7-bbc1-aa6ce5705d81",
   "metadata": {},
   "outputs": [
    {
     "data": {
      "text/plain": [
       "# A draws_rvars: 8 iterations, 10 chains, and 1 variables\n",
       "$y: rvar<8,10>[1] \u001b[90mmean ± sd:\u001b[39m\n",
       "[1] 0.0035 ± 1.4 \n"
      ]
     },
     "metadata": {},
     "output_type": "display_data"
    }
   ],
   "source": [
    "workflow$simulate(n_sbc_iterations = N, custom_prior = prior)\n",
    "workflow$simulated_y"
   ]
  },
  {
   "cell_type": "code",
   "execution_count": 90,
   "id": "c30664f6-1543-4d4e-882d-46e0aa365c09",
   "metadata": {},
   "outputs": [
    {
     "data": {
      "text/plain": [
       "# A draws_rvars: 1 iterations, 10 chains, and 1 variables\n",
       "$...1: rvar<1,10>[1] \u001b[90mmean ± sd:\u001b[39m\n",
       "[1] -0.18 ± 0.91 \n"
      ]
     },
     "metadata": {},
     "output_type": "display_data"
    }
   ],
   "source": [
    "workflow$prior_samples"
   ]
  },
  {
   "cell_type": "code",
   "execution_count": 49,
   "id": "a3ba2856-f689-4cef-80f6-b08451b1aa74",
   "metadata": {},
   "outputs": [
    {
     "ename": "ERROR",
     "evalue": "Error in (function (D) : unused argument (custom_prior = list(list()))\n",
     "output_type": "error",
     "traceback": [
      "Error in (function (D) : unused argument (custom_prior = list(list()))\nTraceback:\n",
      "1. workflow$simulate(n_sbc_iterations = N, custom_prior = prior)",
      "2. do.call(generator_to_draws_rvars, list(self$sim_function, n_sbc_iterations, \n .     ...))",
      "3. (function (generator, n_sbc_iterations, ...) \n . {\n .     merged_parameter_array <- NULL\n .     merged_generated_array <- NULL\n .     for (iter in 1:n_sbc_iterations) {\n .         generator_output <- do.call(generator, list(...))\n .         parameter_array <- posterior::as_draws_array(posterior::as_draws_rvars(generator_output[[\"parameters\"]]))\n .         generated_array <- posterior::as_draws_array(posterior::as_draws_rvars(list(y = posterior::rvar(generator_output[[\"generated\"]]))))\n .         dimnames(parameter_array)[[2]] <- iter\n .         dimnames(generated_array)[[2]] <- iter\n .         if (iter == 1) {\n .             merged_parameter_array <- parameter_array\n .             merged_generated_array <- generated_array\n .         }\n .         else {\n .             merged_parameter_array <- abind::abind(merged_parameter_array, \n .                 parameter_array, along = 2)\n .             merged_generated_array <- abind::abind(merged_generated_array, \n .                 generated_array, along = 2)\n .         }\n .     }\n .     list(parameters = posterior::as_draws_rvars(merged_parameter_array), \n .         generated = posterior::as_draws_rvars(merged_generated_array))\n . })(function (D) \n . {\n .     theta <- rnorm(1, 0, 1)\n .     list(generated = rnorm(D, theta, 1), parameters = list(theta))\n . }, 10, custom_prior = structure(list(...1 = structure(list(), draws = structure(c(0.121479874806603, \n . -0.453504214949448, -1.7682804371917, 0.0876213993437489, -0.373989028110333, \n . 0.151540191718639, -2.77111669144159, 0.400433338365307, -1.03388612444364, \n . 0.0519454774077888), .Dim = c(10L, 1L), .Dimnames = list(c(\"1\", \n . \"2\", \"3\", \"4\", \"5\", \"6\", \"7\", \"8\", \"9\", \"10\"), NULL)), nchains = 10L, class = c(\"rvar\", \n . \"vctrs_vctr\", \"list\"))), class = c(\"draws_rvars\", \"draws\", \"list\"\n . )))",
      "4. do.call(generator, list(...))"
     ]
    }
   ],
   "source": [
    "pars = \"theta\"\n",
    "t_prior <- prior[pars]\n",
    "workflow$simulate(n_sbc_iterations = N, custom_prior = prior) #should recive both prior sample and prior distribution\n",
    "#clamped stan could be applied for inference\n",
    "D <- dim(as_draws_array(workflow$simulated_y))[1]\n",
    "y <- workflow$simulated_y\n",
    "prior_summ <- summarise_draws(workflow$prior_samples)\n",
    "theta_hp <- prior_summ$mean\n",
    "data = list(\"D\"=D, \"y\"=y, \"theta_hp\"=theta_hp)\n",
    "    "
   ]
  },
  {
   "cell_type": "code",
   "execution_count": 93,
   "id": "258a6471",
   "metadata": {},
   "outputs": [
    {
     "ename": "ERROR",
     "evalue": "Error: The following variables are missing in the draws object: {'...1'}\n",
     "output_type": "error",
     "traceback": [
      "Error: The following variables are missing in the draws object: {'...1'}\nTraceback:\n",
      "1. workflow$calculate_rank()",
      "2. calculate_rank_draws_rvars(self$prior_samples, self$posterior_samples)   # at line 118 of file <text>",
      "3. apply(posterior::draws_of(posterior::subset_draws(post, variable = var, \n .     chain = n_iter)[[var]]), 1, function(x) {\n .     x < prior_slice\n . })   # at line 201 of file <text>",
      "4. posterior::draws_of(posterior::subset_draws(post, variable = var, \n .     chain = n_iter)[[var]])   # at line 201 of file <text>",
      "5. posterior::subset_draws(post, variable = var, chain = n_iter)   # at line 201 of file <text>",
      "6. subset_draws.draws_rvars(post, variable = var, chain = n_iter)",
      "7. check_existing_variables(variable, x, regex = regex)",
      "8. stop_no_call(\"The following variables are missing in the draws object: \", \n .     comma(missing_variables))",
      "9. stop(..., call. = FALSE)"
     ]
    }
   ],
   "source": [
    "prior <- workflow$prior_samples\n",
    "post <- workflow$posterior_samples\n",
    "ranks <- workflow$calculate_rank()\n",
    "plot_ecdf(as_draws_matrix(ranks), \"theta\")\n",
    "plot_hist(as_draws_matrix(ranks), \"theta\", bins = 5)\n",
    "print_summary(as_draws_matrix(ranks), \"theta\", bins = 5)"
   ]
  },
  {
   "cell_type": "code",
   "execution_count": null,
   "id": "ba60d66f-63f1-4727-980b-5ac91484cbb2",
   "metadata": {},
   "outputs": [],
   "source": [
    "pars<-  \"mu\" #names(prior)[c(1)] \n",
    "evolve_df <- initDf(1, summary = \"pars\")\n",
    "sc_workflow <- SBCWorkflow$new(ncp_model, generator())\n",
    "sc_prior <- selfCalib(sc_workflow, prior, data, pars, N, M, cnt = 1, evolve_df, delivDir)[1]\n",
    "\n",
    "# test self-consistency fo sc_prior\n",
    "sc_workflow$simulate(n_sbc_iterations = N, custom_prior = sc_prior)\n",
    "#clamped stan could be applied for inference\n",
    "sc_workflow$fit_model(sample_iterations = M, warmup_iterations = M, data)\n",
    "sc_ranks <- sc_workflow$calculate_rank()\n",
    "plot_ecdf(as_draws_matrix(sc_ranks), \"mu\")\n",
    "plot_hist(as_draws_matrix(sc_ranks), \"mu\", bins = 10)\n",
    "print_summary(as_draws_matrix(sc_ranks), \"mu\", bins = 10)"
   ]
  },
  {
   "cell_type": "code",
   "execution_count": 92,
   "id": "56b27bdf",
   "metadata": {},
   "outputs": [],
   "source": [
    "#workflow.R\n",
    "CMDSTAN_MODEL_CLASS_NAME <- \"CmdStanModel\"\n",
    "BRMSFIT_MODEL_CLASS_NAME <- \"brmsfit\"\n",
    "\n",
    "#' R6 class representing a fluid SBC workflow, boasting a highly customizable pipeline and supports intermediate updates\n",
    "#' @export\n",
    "SBCWorkflow <- R6::R6Class(\"SBCWorkflow\",\n",
    "                           public = list(\n",
    "                             #' @field cmdstan_model A CmdStanModel object used for SBC\n",
    "                             #' @field brms_model_fit A brmsfit object used for SBC\n",
    "                             #' @field sim_function If using CmdStanModel, a simulator function, which should return simulated prior and data samples for SBC. Please refer \\code{SBCWorkflow$initialize()} for details.\n",
    "                             #' @field calculated_ranks A named list of vectors which contained calculated ranks, or NULL if not calculated.\n",
    "                             #' @field prior_samples A posterior::draws_rvars of dimension(n_iterations=1, n_chains=n_sbc_iterations, n_variables=n_variables) which stores prior samples\n",
    "                             #' @field simulated_y A posterior::draws_rvars of dimension(n_iterations=n_simulated_y, n_chains=n_sbc_iterations, n_variables=1), which stores simulated y as \"y\"\n",
    "                             #' @field posterior_samples A posterior::draws_Rvars of dimension(n_iterations=n_posterior_samples, n_chains=n_sbc_iterations, n_variables=n_variables), which stores fitted posterior samples\n",
    "                             #' @field thin_factor Non-negative integer representing posterior thinning interval\n",
    "                             cmdstan_model = NULL,\n",
    "                             brms_model_fit = NULL,\n",
    "                             sim_function = NULL,\n",
    "                             calculated_ranks = NULL,\n",
    "                             prior_samples = NULL,  #  written on simulate\n",
    "                             simulated_y = NULL,  #  written on simulate\n",
    "                             posterior_samples = NULL, # written on fit_model\n",
    "                             thin_factor = NULL, # type is integer. written on initialize and fit_model\n",
    "                             \n",
    "                             #' R6 Initializer for SBCWorkflow\n",
    "                             #'\n",
    "                             #' @param model_obj A CmdStanModel or brmsfit object to use for fitting data.\n",
    "                             #' @param sim_function If using CmdStanModel, a simulator function. The function must return a\n",
    "                             #'   named list with elements \\code{parameters} and \\code{generated}.\n",
    "                             #'   Parameters should be a named list containing prior samplers for\n",
    "                             #'   parameters. Generated must be a 1 dimensional vector containing\n",
    "                             #'   simulated y data generated from the \\code{parameters} samples.\n",
    "                             #'\n",
    "                             #' @return None\n",
    "                             initialize = function(model_obj, sim_function){\n",
    "                               if(!is.na(match(CMDSTAN_MODEL_CLASS_NAME, class(model_obj)))){\n",
    "                                 if(missing(sim_function)){\n",
    "                                   stop(\"If a cmdstan model is given, sim_function must also be supplied.\")\n",
    "                                 }\n",
    "                                 self$cmdstan_model <- model_obj\n",
    "                                 self$sim_function <- sim_function\n",
    "                               }\n",
    "                               else if(!is.na(match(BRMSFIT_MODEL_CLASS_NAME, class(model_obj)))){\n",
    "                                 if(!missing(sim_function)){\n",
    "                                   warning(\"A brm model has been supplied, but sim_function was also included in arguments. It will be ignored.\")\n",
    "                                 }\n",
    "                                 self$brms_model_fit <- model_obj\n",
    "                               }\n",
    "                               else{\n",
    "                                 stop(paste(\"The specified model object is neither a\", CMDSTAN_MODEL_CLASS_NAME, \"or a\", BRMSFIT_MODEL_CLASS_NAME, \". Please recheck your model object.\"))\n",
    "                               }\n",
    "                             },\n",
    "                             \n",
    "                             #' Sample \\eqn{\\tilde{\\theta} \\sim P(\\theta)} and \\eqn{\\tilde{y} \\sim P(\\tilde{y}) | \\tilde{\\theta} using \\code{sim_function}\n",
    "                             #'\n",
    "                             #' @param n_sbc_iterations Number of prior sample sets to generate. Equates to number of SBC iterations\n",
    "                             #' @param ... Additional arguments to be passed to \\code{sim_function}\n",
    "                             simulate = function(n_sbc_iterations, theta_hp = NULL, ...){  # number of simulation draws should be at least 1000 # how to get D?\n",
    "                               if(!is.null(self$brms_model_fit)){\n",
    "                                 #prior_sampler <- update(self$model_obj, sample_prior=\"only\", chains=1, iter=n * 2, warmup = n)\n",
    "                               }\n",
    "                               else if(!is.null(self$cmdstan_model)){\n",
    "                                 draws_rvars_list <- do.call(generator_to_draws_rvars, list(self$sim_function, n_sbc_iterations, theta_hp, ...))\n",
    "                                 self$prior_samples <- draws_rvars_list[[\"parameters\"]] # receive from generator\n",
    "                                 self$simulated_y <- draws_rvars_list[[\"generated\"]]\n",
    "                               }\n",
    "                               else{\n",
    "                                 stop(\"No valid model specified for the workflow. Please check that your model is a valid brmsfit or a CmdStanModel object.\")\n",
    "                               }\n",
    "                             },\n",
    "                             \n",
    "                             #' Sample \\eqn{\\widehat{\\theta} \\sim P(\\widehat{\\theta} | \\tilde{y})} using the stan model.\n",
    "                             #'\n",
    "                             #' @param sample_iterations Number of sampling iterations. Equates to number of posterior samples\n",
    "                             #' @param warmup_iterations Number of warmup iteratioins.\n",
    "                             #' @param data List specifying data to be passed to the model. Note that \\code{y} will be replaced with simulated \\code{y} samples.\n",
    "                             #' @param thin_factor Non-negative integer in which thinning should be applied. 1 equates to no thinning being done.\n",
    "                             #'\n",
    "                             #' @return A list of named lists containing posterior samples for each parameter.\n",
    "                             fit_model = function(sample_iterations, warmup_iterations, data=list(), thin_factor=3){\n",
    "                               self$thin_factor <- thin_factor\n",
    "                               if(is.null(self$simulated_y)){\n",
    "                                 stop(\"There are no simulated data available. Please run SBCWorkflow$simulate() first \")\n",
    "                               }\n",
    "                               # if(posterior::nchains(self$prior_samples) != posterior::nchains(self$simulated_y)){\n",
    "                               #   stop(\"The number of simulated prior and data do not match. Please rerun SBCWorkflow$simulate() and if using CmdStan, make sure your generator is well formed.\")\n",
    "                               # }\n",
    "                               \n",
    "                               \n",
    "                               if(!is.null(self$brms_model_fit)){\n",
    "                                 #brms\n",
    "                               }\n",
    "                               else if(!is.null(self$cmdstan_model)){\n",
    "                                 sbc_iterations <- posterior::nchains(self$prior_samples)\n",
    "                                 posterior_draws_rvars <- cmdstan_fits_to_draws_rvars(self$cmdstan_model, sbc_iterations, data, self$simulated_y, iter_sampling=sample_iterations * thin_factor, iter_warmup = warmup_iterations, chains=1, thin=thin_factor)\n",
    "                                 self$posterior_samples <- posterior_draws_rvars\n",
    "                               }\n",
    "                               \n",
    "                               posterior_draws_rvars\n",
    "                             },\n",
    "                             \n",
    "                             #' Calculate rank statistics for a given parameter name\n",
    "                             #'\n",
    "                             #' @param param list of parameter names to calculate. If not given, calculate for all available parameters.\n",
    "                             #'\n",
    "                             calculate_rank = function(param=NULL){\n",
    "                               if(is.null(self$posterior_samples)){\n",
    "                                 stop(\"There are no posterior samples available. Please run SBCWorkflow$fit_model() first.\")\n",
    "                               }\n",
    "                               if(is.null(param)){\n",
    "                                 param <- posterior::variables(prior)\n",
    "                               }\n",
    "                               calculate_rank_draws_rvars(self$prior_samples, self$posterior_samples)\n",
    "                               \n",
    "                               # ranks <- array(rep(0, n_iters * n_params), dim=c(n_iters, n_params))\n",
    "                               # dimnames(ranks)[2] <- list(names(decomposed_prior))\n",
    "                               #\n",
    "                               # for(i in 1:n_iters){\n",
    "                               #   prior <- self$prior_samples[[i]]\n",
    "                               #   decomposed_prior <- decompose_structure_to_par_list(prior)\n",
    "                               #\n",
    "                               #   for(j in 1:n_params){\n",
    "                               #     regex_res <- gregexpr(\"(?<=\\\\[)(.+)(?=\\\\])\", param[[j]], perl = TRUE)[[1]]\n",
    "                               #     capture_start <- attr(regex_res, \"capture.start\")\n",
    "                               #     capture_length <- attr(regex_res, \"capture.length\")\n",
    "                               #     if(capture_start != -1){\n",
    "                               #       index <- as.integer(unlist(substr(param[[j]], capture_start, capture_start + capture_length - 1)))\n",
    "                               #       ranks[i, param[[j]]] <- sum(self$posterior_samples[[i]][[param[[j]]]] < access_element_by_index(self$prior_samples[[i]][[base_param_names[[j]]]], index))\n",
    "                               #     }\n",
    "                               #     else{\n",
    "                               #       t1 <- self$posterior_samples[[i]][[param[[j]]]]\n",
    "                               #       t2 <- self$prior_samples[[i]][[param[[j]]]]\n",
    "                               #       #ranks[i, param[[j]]] <- sum(self$posterior_samples[[i]][[param[[j]]]] < self$prior_samples[[i]][[param[[j]]]])\n",
    "                               #       ranks[i, param[[j]]] <- sum(t1 < t2)\n",
    "                               #     }\n",
    "                               #   }\n",
    "                               # }\n",
    "                               # return(ranks)\n",
    "                             },\n",
    "                             add_steps = function(N){\n",
    "                               \n",
    "                             }\n",
    "                           )\n",
    ")\n",
    "#utils.R\n",
    "generator_to_draws_rvars <- function(generator, n_sbc_iterations, theta_hp = NULL, ...){\n",
    "  merged_parameter_array <- NULL # a 3d array with dimensions(1, n_sbc_iterations, n_variables)\n",
    "  merged_generated_array <- NULL # a 3d array with dim(n_generated_samples, n_sbc_iterations, 1)\n",
    "  # we extend the array along the 2nd dimension, which is along chains\n",
    "\n",
    "  # If there's an easier way to merge rvars along chains, then the double conversion wouldn't be needed\n",
    "  for(iter in 1:n_sbc_iterations){\n",
    "    generator_output <- do.call(generator, theta_hp = theta_hp, list(...))\n",
    "    parameter_array <- posterior::as_draws_array(posterior::as_draws_rvars(generator_output[[\"parameters\"]]))  # No clean way to directly transform generator output to draws_array\n",
    "    generated_array <- posterior::as_draws_array(posterior::as_draws_rvars(list(y=posterior::rvar(generator_output[[\"generated\"]]))))\n",
    "    dimnames(parameter_array)[[2]] <- iter\n",
    "    dimnames(generated_array)[[2]] <- iter\n",
    "    if(iter == 1){\n",
    "      merged_parameter_array <- parameter_array\n",
    "      merged_generated_array <- generated_array\n",
    "    }\n",
    "    else{\n",
    "      merged_parameter_array <- abind::abind(merged_parameter_array, parameter_array, along=2)\n",
    "      merged_generated_array <- abind::abind(merged_generated_array, generated_array, along=2)\n",
    "    }\n",
    "  }\n",
    "  list(parameters=posterior::as_draws_rvars(merged_parameter_array), generated=posterior::as_draws_rvars(merged_generated_array))\n",
    "}\n",
    "cmdstan_fits_to_draws_rvars <- function(cmdstan_model, n_sbc_iterations, data_list, simulated_y_draws_rvars, ...){\n",
    "  if(n_sbc_iterations != posterior::nchains(simulated_y_draws_rvars)){\n",
    "    stop(\"Number of chains in simulated_y_draws_rvars does not match n_sbc_iterations\")\n",
    "  }\n",
    "  merged_fits_array <-NULL # a 3d array with dimensions(n_posterior_samples, n_sbc_iterations, n_variables)\n",
    "\n",
    "  for(iter in 1:n_sbc_iterations){\n",
    "    data_list[[\"y\"]] <- as.vector(posterior::draws_of(posterior::subset_draws(simulated_y_draws_rvars, chain=iter)$y))\n",
    "    model_fit <-do.call(cmdstan_model$sample, list(data=data_list, ...))\n",
    "    fit_array <- posterior::as_draws_array(posterior::as_draws_rvars(model_fit$draws()))\n",
    "    dimnames(fit_array)[[2]] <- iter\n",
    "\n",
    "    if(iter == 1){\n",
    "      merged_fits_array <- fit_array\n",
    "    }\n",
    "    else{\n",
    "      merged_fits_array <- abind::abind(merged_fits_array, fit_array, along=2)\n",
    "    }\n",
    "  }\n",
    "  posterior::as_draws_rvars(merged_fits_array)\n",
    "}\n",
    "calculate_rank_draws_rvars <- function(prior_draws_rvars, posterior_draws_rvars){\n",
    "  n_vars <- posterior::nvariables(prior)\n",
    "  sbc_iters <- posterior::nchains(prior)\n",
    "  merged_rank_array <- NULL\n",
    "  for(n_iter in 1:sbc_iters){\n",
    "    rank_list <- list()\n",
    "    for(n_var in 1:n_vars){\n",
    "      var <- posterior::variables(prior)[[n_var]]\n",
    "\n",
    "      prior_slice <- as.array(posterior::draws_of(posterior::subset_draws(prior, variable=var, chain=n_iter)[[var]]))\n",
    "      iter_comp <- apply(posterior::draws_of(posterior::subset_draws(post, variable = var, chain=n_iter)[[var]]), 1, function(x){x < prior_slice})\n",
    "      if(is.vector(iter_comp)){\n",
    "        rank_list[[var]] <- sum(iter_comp, na.rm=TRUE)\n",
    "      }\n",
    "      else{\n",
    "        rank_slice <- apply(iter_comp, c(1:(max(1,length(dim(iter_comp))-1))), function(x){sum(x, na.rm=TRUE)})\n",
    "        # Need to test for scalar and matrices\n",
    "        rank_list[[var]] <- rank_slice\n",
    "      }\n",
    "\n",
    "    }\n",
    "    rank_array <- posterior::as_draws_array(posterior::as_draws_rvars(rank_list))\n",
    "    dimnames(rank_array)[[2]] <- n_iter\n",
    "    if(n_iter == 1){\n",
    "      merged_rank_array <- rank_array\n",
    "    }\n",
    "    else{\n",
    "      merged_rank_array <- abind::abind(merged_rank_array, rank_array, along=2)\n",
    "    }\n",
    "  }\n",
    "  posterior::as_draws_rvars(merged_rank_array)\n",
    "}"
   ]
  },
  {
   "cell_type": "code",
   "execution_count": 111,
   "id": "eb8dc68f-73ac-4f5b-b865-57ff198bcc9e",
   "metadata": {},
   "outputs": [
    {
     "ename": "ERROR",
     "evalue": "Error in do.call(generator, list(...)): '...' used in an incorrect context\n",
     "output_type": "error",
     "traceback": [
      "Error in do.call(generator, list(...)): '...' used in an incorrect context\nTraceback:\n",
      "1. do.call(generator, list(...))"
     ]
    }
   ],
   "source": [
    "generator_output <- do.call(generator, list(...))"
   ]
  },
  {
   "cell_type": "code",
   "execution_count": 1,
   "id": "af13822c",
   "metadata": {
    "scrolled": true
   },
   "outputs": [
    {
     "name": "stderr",
     "output_type": "stream",
     "text": [
      "This is cmdstanr version 0.4.0.9000\n",
      "\n",
      "- Online documentation and vignettes at mc-stan.org/cmdstanr\n",
      "\n",
      "- CmdStan path set to: /Users/hyunjimoon/.cmdstan/cmdstan-2.27.0\n",
      "\n",
      "- Use set_cmdstan_path() to change the path\n",
      "\n",
      "\n",
      "Attaching package: ‘dplyr’\n",
      "\n",
      "\n",
      "The following objects are masked from ‘package:stats’:\n",
      "\n",
      "    filter, lag\n",
      "\n",
      "\n",
      "The following objects are masked from ‘package:base’:\n",
      "\n",
      "    intersect, setdiff, setequal, union\n",
      "\n",
      "\n",
      "── \u001b[1mAttaching packages\u001b[22m ─────────────────────────────────────── tidyverse 1.3.1 ──\n",
      "\n",
      "\u001b[32m✔\u001b[39m \u001b[34mggplot2\u001b[39m 3.3.5     \u001b[32m✔\u001b[39m \u001b[34mpurrr  \u001b[39m 0.3.4\n",
      "\u001b[32m✔\u001b[39m \u001b[34mtibble \u001b[39m 3.1.2     \u001b[32m✔\u001b[39m \u001b[34mstringr\u001b[39m 1.4.0\n",
      "\u001b[32m✔\u001b[39m \u001b[34mtidyr  \u001b[39m 1.1.3     \u001b[32m✔\u001b[39m \u001b[34mforcats\u001b[39m 0.5.1\n",
      "\u001b[32m✔\u001b[39m \u001b[34mreadr  \u001b[39m 1.4.0     \n",
      "\n",
      "── \u001b[1mConflicts\u001b[22m ────────────────────────────────────────── tidyverse_conflicts() ──\n",
      "\u001b[31m✖\u001b[39m \u001b[34mdplyr\u001b[39m::\u001b[32mfilter()\u001b[39m masks \u001b[34mstats\u001b[39m::filter()\n",
      "\u001b[31m✖\u001b[39m \u001b[34mdplyr\u001b[39m::\u001b[32mlag()\u001b[39m    masks \u001b[34mstats\u001b[39m::lag()\n",
      "\n",
      "\n",
      "Attaching package: ‘reshape’\n",
      "\n",
      "\n",
      "The following objects are masked from ‘package:tidyr’:\n",
      "\n",
      "    expand, smiths\n",
      "\n",
      "\n",
      "The following object is masked from ‘package:dplyr’:\n",
      "\n",
      "    rename\n",
      "\n",
      "\n",
      "This is posterior version 1.0.0\n",
      "\n",
      "\n",
      "Attaching package: ‘posterior’\n",
      "\n",
      "\n",
      "The following objects are masked from ‘package:stats’:\n",
      "\n",
      "    mad, sd, var\n",
      "\n",
      "\n",
      "Skipping install of 'SBC' from a github remote, the SHA1 (b6278571) has not changed since last install.\n",
      "  Use `force = TRUE` to force installation\n",
      "\n",
      "\n",
      "Attaching package: ‘pracma’\n",
      "\n",
      "\n",
      "The following object is masked from ‘package:purrr’:\n",
      "\n",
      "    cross\n",
      "\n",
      "\n",
      "Warning message in dir.create(delivDir):\n",
      "“'/Users/hyunjimoon/Dropbox/21S_paper/SBC-approx-sensitivity/sbc-approx/deliv/eightschools_ncp' already exists”\n",
      "Warning message in dir.create(delivDir):\n",
      "“'/Users/hyunjimoon/Dropbox/21S_paper/SBC-approx-sensitivity/sbc-approx/deliv/eightschools_ncp' already exists”\n",
      "Warning message in dir.create(delivDir):\n",
      "“'/Users/hyunjimoon/Dropbox/21S_paper/SBC-approx-sensitivity/sbc-approx/deliv/eightschools_ncp' already exists”\n"
     ]
    }
   ],
   "source": [
    "library(cmdstanr)\n",
    "#install_cmdstanr(overwrite = TRUE)\n",
    "library(dplyr)\n",
    "library(tidyverse)\n",
    "library(reshape)\n",
    "library(parallel)\n",
    "library(posterior)\n",
    "#library(rstanarm)\n",
    "devtools::install_github(\"hyunjimoon/SBC\",ref=\"workflow\")\n",
    "library(SBC)\n",
    "library(pracma)\n",
    "library(\"entropy\")\n",
    "#devtools::install_github(\"rmcelreath/rethinking\",ref=\"Experimental\")\n",
    "#library(rethinking)\n",
    "set.seed(1954)\n",
    ".libPaths(\"~/Rlib\")\n",
    "options(mc.cores = parallel::detectCores())\n",
    "set_get_Dir <- function(modelName){\n",
    "  scriptDir <- getwd()\n",
    "  modDir <- file.path(scriptDir, \"models\")\n",
    "  dataDir <- file.path(scriptDir, \"data\")\n",
    "  delivDir <- file.path(scriptDir, \"deliv\", modelName)\n",
    "  dir.create(delivDir)\n",
    "  file <- file.path(modDir, modelName, paste0(modelName, \".stan\"))\n",
    "  mod <- cmdstan_model(file)\n",
    "  return(list(data = data, mod = mod, modDir = modDir, file = file, delivDir = delivDir)) \n",
    "}\n",
    "\n",
    "source(\"tools/selfCalib.R\")\n",
    "modelName = \"simple.normal_1\"\n",
    "modDir <- set_get_Dir(modelName)$modDir\n",
    "delivDir <- set_get_Dir(modelName)$delivDir\n",
    "file <- set_get_Dir(modelName)$file\n",
    "ncp_model = cmdstanr::cmdstan_model(file)\n",
    "generator <- function(){\n",
    "  function(){\n",
    "    mu <- rnorm(1, 0, 5)\n",
    "    tau <- rcauchy(1, 0, 5)\n",
    "    theta_trans <- rnorm(8, 0, 1)\n",
    "    theta <-theta_trans * tau + mu\n",
    "    list(\n",
    "      generated = rnorm(8, mu, sigma),\n",
    "      parameters = list(\n",
    "        mu = mu,\n",
    "        theta_trans=theta_trans,\n",
    "        tau = tau,\n",
    "        theta = theta\n",
    "      )\n",
    "    )\n",
    "  }\n",
    "}\n",
    "\n",
    "J <- 8\n",
    "y <- c(28, 8, -3, 7, -1, 1, 18, 12)\n",
    "sigma <- c(15, 10, 16, 11, 9, 11, 10, 18)\n",
    "nChains <- 4\n",
    "parallel_chains <- min(nChains, detectCores())\n",
    "N = 100 #200\n",
    "M = 20 # 40\n"
   ]
  }
 ],
 "metadata": {
  "kernelspec": {
   "display_name": "R",
   "language": "R",
   "name": "ir"
  },
  "language_info": {
   "codemirror_mode": "r",
   "file_extension": ".r",
   "mimetype": "text/x-r-source",
   "name": "R",
   "pygments_lexer": "r",
   "version": "4.1.0"
  }
 },
 "nbformat": 4,
 "nbformat_minor": 5
}
